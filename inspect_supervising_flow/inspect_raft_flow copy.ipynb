{
 "cells": [
  {
   "cell_type": "code",
   "execution_count": 1,
   "metadata": {},
   "outputs": [
    {
     "data": {
      "text/plain": [
       "2"
      ]
     },
     "execution_count": 1,
     "metadata": {},
     "output_type": "execute_result"
    }
   ],
   "source": [
    "2"
   ]
  },
  {
   "cell_type": "code",
   "execution_count": 2,
   "metadata": {},
   "outputs": [],
   "source": [
    "import sys\n",
    "sys.path.append('..')\n",
    "sys.path.append('../loaders')"
   ]
  },
  {
   "cell_type": "code",
   "execution_count": 3,
   "metadata": {},
   "outputs": [
    {
     "name": "stderr",
     "output_type": "stream",
     "text": [
      "/export/home/mandreev/anaconda3/envs/omnimotion/lib/python3.8/site-packages/tqdm/auto.py:21: TqdmWarning: IProgress not found. Please update jupyter and ipywidgets. See https://ipywidgets.readthedocs.io/en/stable/user_install.html\n",
      "  from .autonotebook import tqdm as notebook_tqdm\n"
     ]
    }
   ],
   "source": [
    "from raft import RAFTExhaustiveDataset\n",
    "from config import config_parser\n",
    "import util"
   ]
  },
  {
   "cell_type": "code",
   "execution_count": 14,
   "metadata": {},
   "outputs": [],
   "source": [
    "import util\n",
    "import imageio\n",
    "import os\n",
    "import json\n",
    "import cv2\n",
    "from PIL import Image\n",
    "\n",
    "import numpy as np\n",
    "from PIL import Image\n",
    "\n",
    "def tile_videos(video_arr):\n",
    "    # Helper function to detect if an image is a numpy array\n",
    "    def is_numpy(img):\n",
    "        return isinstance(img, np.ndarray)\n",
    "    \n",
    "    # Convert numpy to PIL\n",
    "    def numpy_to_pil(np_img):\n",
    "        return Image.fromarray(np_img)\n",
    "    \n",
    "    # Convert PIL to numpy\n",
    "    def pil_to_numpy(pil_img):\n",
    "        return np.array(pil_img)\n",
    "    \n",
    "    # Get image dimensions regardless of type\n",
    "    def get_dimensions(img):\n",
    "        if is_numpy(img):\n",
    "            return img.shape[1], img.shape[0]\n",
    "        return img.width, img.height\n",
    "    \n",
    "    # Helper function to get the maximum height and total width of two images\n",
    "    def get_combined_dimensions(img1, img2):\n",
    "        width1, height1 = get_dimensions(img1)\n",
    "        width2, height2 = get_dimensions(img2)\n",
    "        return width1 + width2, max(height1, height2)\n",
    "    \n",
    "    tiled_video = []\n",
    "\n",
    "    # Process each frame time-wise\n",
    "    max_length = max(len(video) for video_pair in video_arr for video in video_pair if video is not None)\n",
    "    for frame_index in range(max_length):\n",
    "        frames_to_merge = []\n",
    "\n",
    "        for video_pair in video_arr:\n",
    "            combined_frame = None\n",
    "\n",
    "            # Fetch the frame if it exists, else use a black frame\n",
    "            frame1 = video_pair[0][frame_index] if (video_pair[0] is not None and frame_index < len(video_pair[0])) else Image.new('RGB', (640, 480), color='black')\n",
    "            frame2 = video_pair[1][frame_index] if (video_pair[1] is not None and frame_index < len(video_pair[1])) else Image.new('RGB', (640, 480), color='black')\n",
    "\n",
    "            # Convert numpy frames to PIL for easier handling\n",
    "            if is_numpy(frame1):\n",
    "                frame1 = numpy_to_pil(frame1)\n",
    "            if is_numpy(frame2):\n",
    "                frame2 = numpy_to_pil(frame2)\n",
    "\n",
    "            # Merge the two frames side by side\n",
    "            width, height = get_combined_dimensions(frame1, frame2)\n",
    "            combined_frame = Image.new('RGB', (width, height))\n",
    "            combined_frame.paste(frame1, (0, 0))\n",
    "            combined_frame.paste(frame2, (frame1.width, 0))\n",
    "\n",
    "            frames_to_merge.append(combined_frame)\n",
    "\n",
    "        # Now merge frames vertically\n",
    "        total_width = frames_to_merge[0].width\n",
    "        total_height = sum(frame.height for frame in frames_to_merge)\n",
    "        final_frame = Image.new('RGB', (total_width, total_height))\n",
    "        y_offset = 0\n",
    "        for frame in frames_to_merge:\n",
    "            final_frame.paste(frame, (0, y_offset))\n",
    "            y_offset += frame.height\n",
    "\n",
    "        tiled_video.append(final_frame)\n",
    "\n",
    "    return tiled_video\n",
    "\n",
    "# Example usage remains the same\n",
    "\n",
    "\n",
    "\n",
    "def save_video(frames, out_path):\n",
    "    \"\"\"\n",
    "        Args:\n",
    "            frames: list of np.ndarray of shape (H, W, 3) and dtype np.uint8\n",
    "    \"\"\"\n",
    "    try:\n",
    "        imageio.mimwrite(out_path, frames, quality=8, fps=10)\n",
    "\n",
    "        print(f'💾 Saved video to {out_path}')\n",
    "    except Exception as e:\n",
    "        print(f'💾⚠️ Failed to save video to {out_path}')\n",
    "        print(e)\n",
    "        print(f'frames[0].shape: {frames[0].shape}, frames[0].dtype: {frames[0].dtype}')\n",
    "\n",
    "def flow_to_video(flows):\n",
    "    return [util.flow_to_image(flow_map) for flow_map in tqdm(flows, \"converting flows to images\")]\n",
    "\n",
    "def save_flow_as_video(out_path, flows):\n",
    "    flow_imgs = flow_to_video(flows)\n",
    "\n",
    "    save_video(flow_imgs, out_path)\n",
    "\n",
    "    return flow_imgs\n",
    "\n",
    "def count_map_to_image(count_maps, i):\n",
    "\n",
    "    # expand pixel value into 3 dimensions\n",
    "    count_map = np.repeat(count_maps[i][:, :, np.newaxis], 3, axis=2)\n",
    "\n",
    "    # normalize across all count maps\n",
    "    count_map = count_map / np.max(count_maps)\n",
    "    \n",
    "    # convert to np.uint8\n",
    "    count_map = (count_map * 255).astype(np.uint8)\n",
    "\n",
    "    return count_map\n",
    "\n",
    "def draw_text(frames, text, location):\n",
    "    \"\"\" Returns array of frames with text drawn on them \"\"\"\n",
    "    for i in range(len(frames)):\n",
    "        frames[i] = cv2.putText(frames[i], text, location, cv2.FONT_HERSHEY_SIMPLEX, 1, (220, 20, 200), 2, cv2.LINE_AA)\n",
    "    return frames\n",
    "def concat_frames(frames1, frames2, left_label=None, right_label=None):\n",
    "    \"\"\" Returns array of side-by-side frames of shape (N, H, W*2, 3) \"\"\"\n",
    "    concatted = np.concatenate([frames1, frames2], axis=2)\n",
    "\n",
    "    if left_label is not None:\n",
    "        concatted = draw_text(concatted, left_label, (10, 50))\n",
    "\n",
    "    if right_label is not None:\n",
    "        concatted = draw_text(concatted, right_label, (concatted.shape[2]//2 + 10, 50))\n",
    "    \n",
    "    return concatted\n",
    "\n",
    "\n",
    "def save_json(out_path, data):\n",
    "    \"\"\" Saves data to json file \"\"\"\n",
    "    with open(out_path, 'w') as f:\n",
    "        json.dump(data, f)\n",
    "    print(f'💾 Saved json to {out_path}')\n",
    "\n",
    "def pad_frames(frames, head_frames=0, tail_frames=0):\n",
    "    \"\"\"\n",
    "        Pad the video with head_frames and tail_frames of black frames.\n",
    "        Args:\n",
    "            frames (`PIL.Image`): list of frames\n",
    "    \"\"\"\n",
    "    if head_frames > 0:\n",
    "        frames = [Image.new('RGB', (640, 480), color='black') for _ in range(head_frames)] + frames\n",
    "    if tail_frames > 0:\n",
    "        frames = frames + [Image.new('RGB', (640, 480), color='black') for _ in range(tail_frames)]\n",
    "    return frames\n",
    "    "
   ]
  },
  {
   "cell_type": "code",
   "execution_count": 10,
   "metadata": {},
   "outputs": [],
   "source": [
    "import numpy as np\n",
    "import imageio\n",
    "from tqdm import tqdm\n",
    "from concurrent.futures import ThreadPoolExecutor\n",
    "\n",
    "import matplotlib.pyplot as plt\n",
    "\n",
    "class PreprocessingInspector():\n",
    "    def __init__(self, seq_name, data_dir):\n",
    "        self.seq_name = seq_name\n",
    "        self.data_dir = data_dir\n",
    "\n",
    "        self.flow_dir = os.path.join(DATA_DIR, 'raft_exhaustive')\n",
    "        self.flow_mask_dir = os.path.join(DATA_DIR, 'raft_masks')\n",
    "        self.img_dir = os.path.join(DATA_DIR, 'color')\n",
    "        self.img_names = sorted(os.listdir(self.img_dir))\n",
    "    \n",
    "\n",
    "    def visualize_count_maps(self, out_dir=None):\n",
    "        if out_dir is None:\n",
    "            out_dir = os.path.join(self.seq_name, 'count_maps')\n",
    "        \n",
    "        count_dir = os.path.join(DATA_DIR, 'count_maps')\n",
    "        count_img_names = sorted(os.listdir(count_dir))\n",
    "\n",
    "        count_maps = [imageio.imread(os.path.join(count_dir, img_name)) for img_name in tqdm(count_img_names, desc=\"Loading count maps\")]\n",
    "        count_images = [count_map_to_image(count_maps, i) for i in tqdm(range(len(count_maps)), desc=\"Converting count maps to images\")]\n",
    "\n",
    "        os.makedirs(out_dir, exist_ok=True)\n",
    "        save_video(count_images, os.path.join(out_dir, 'count_maps.mp4'))\n",
    "    \n",
    "    \n",
    "    def _load_flow_maps(self, frame_interval, load_masks=True, load_flows=True):\n",
    "        flows_raw = []\n",
    "        flows_masks = []\n",
    "\n",
    "        def process_frame(i):\n",
    "            img_name1 = self.img_names[i]\n",
    "            img_name2 = self.img_names[i + frame_interval]\n",
    "            flow, mask = None, None\n",
    "\n",
    "            if load_flows:\n",
    "                flow_file = os.path.join(self.flow_dir, '{}_{}.npy'.format(img_name1, img_name2))\n",
    "                flow = np.load(flow_file)\n",
    "\n",
    "            if load_masks:\n",
    "                mask_file = os.path.join(self.flow_mask_dir, '{}_{}.png'.format(img_name1, img_name2))\n",
    "                masks = imageio.imread(mask_file) / 255.\n",
    "\n",
    "                cycle_consistency_mask = masks[..., 0] > 0\n",
    "                occlusion_mask = masks[..., 1] > 0\n",
    "                mask = cycle_consistency_mask | occlusion_mask\n",
    "\n",
    "                if mask.sum() == 0:\n",
    "                    mask = np.ones_like(cycle_consistency_mask)\n",
    "\n",
    "            return flow, mask\n",
    "\n",
    "        with ThreadPoolExecutor() as executor:\n",
    "            futures = [executor.submit(process_frame, i) for i in range(0, len(self.img_names) - frame_interval)]\n",
    "            for future in tqdm(concurrent.futures.as_completed(futures), total=len(futures), desc='Loading flow maps'):\n",
    "                flow, mask = future.result()\n",
    "                if load_flows: flows_raw.append(flow)\n",
    "                if load_masks: flows_masks.append(mask)\n",
    "\n",
    "        return flows_raw, flows_masks\n",
    "\n",
    "\n",
    "    def _load_frames(self):\n",
    "        frames = [None] * len(self.img_names)  # Initialize with None to maintain order\n",
    "        \n",
    "        def load_frame(i):\n",
    "            img_name1 = self.img_names[i]\n",
    "            img1 = imageio.imread(os.path.join(self.img_dir, img_name1))\n",
    "            return i, img1  # Return index and frame to maintain order\n",
    "\n",
    "        with ThreadPoolExecutor() as executor:\n",
    "            futures = [executor.submit(load_frame, i) for i in range(len(self.img_names))]\n",
    "            for future in tqdm(concurrent.futures.as_completed(futures), total=len(futures), desc='Loading frames'):\n",
    "                i, frame = future.result()\n",
    "                frames[i] = frame  # Place frames in the correct order\n",
    "\n",
    "        return frames\n",
    "\n",
    "\n",
    "    def visualize_raft_flows(self, out_dir=None, frame_intervals=[1]):\n",
    "        output_video_grid = [\n",
    "            [self._load_frames(), None, None]\n",
    "        ]\n",
    "\n",
    "        padded\n",
    "\n",
    "        for frame_interval in frame_intervals:\n",
    "            flows_raw, flows_masks = self._load_flow_maps(frame_interval)\n",
    "            if out_dir is None:\n",
    "                out_dir = os.path.join(self.seq_name, 'flows')\n",
    "\n",
    "            stats = {\n",
    "                'kept_correspondences': int(sum([mask.sum() for mask in flows_masks])),\n",
    "                'total_correspondences': int(sum([mask.shape[0] * mask.shape[1] for mask in flows_masks])),\n",
    "            }\n",
    "            stats['percentage_kept'] = stats['kept_correspondences'] / stats['total_correspondences']\n",
    "            print(stats)\n",
    "            save_json(os.path.join(out_dir, f'stats_frame_interval={frame_interval}.json'), stats)\n",
    "            \n",
    "            print(f\"Across the entire video, kept {stats['kept_correspondences']} out of {stats['total_correspondences']} pixel-to-pixel correspondences ({stats['percentage_kept'] * 100}%)\")\n",
    "            flows_filtered = [flow * mask[..., np.newaxis] for flow, mask in zip(flows_raw, flows_masks)]\n",
    "            os.makedirs(out_dir, exist_ok=True)\n",
    "            flows_raw_img = flow_to_video(flows_raw)\n",
    "            flows_filtered_img = flow_to_video(flows_filtered)\n",
    "\n",
    "            flows_raw_img = draw_text(flows_raw_img, f'Frame Interval = {frame_interval}, unfiltered', (10, 50))\n",
    "            flows_filtered_img = draw_text(flows_filtered_img, f'Frame Interval = {frame_interval}, filtered', (10, 50))\n",
    "\n",
    "            \n",
    "\n",
    "            # flows_side_by_side = concat_frames(np.array(flows_raw_img), np.array(flows_filtered_img), left_label='Unfiltered', right_label='Filtered')\n",
    "            # save_video(flows_side_by_side, os.path.join(out_dir, f'flow_side_by_side_frame_interval={frame_interval}.mp4'))\n",
    "\n",
    "            masks_imgs = [count_map_to_image(flows_masks, i) for i in range(len(flows_masks))]\n",
    "            output_video_grid.append([flows_raw_img, flows_filtered_img, masks_imgs])\n",
    "\n",
    "            \n",
    "            # save_video(masks_imgs, os.path.join(out_dir, f'masks_frame_interval={frame_interval}.mp4'))\n",
    "        \n",
    "        tiled_video = tile_videos(output_video_grid)\n",
    "        save_video(tiled_video, os.path.join(out_dir, f'flows.mp4'))\n",
    "\n",
    "    def plot_filtering_percentage_across_frame_intervals(self, frame_intervals=[1, 2, 4, 8, 16, 32]):\n",
    "        results = []\n",
    "        for frame_interval in tqdm(frame_intervals, desc=f\"Computing stats for {len(frame_intervals)} frame intervals\"):\n",
    "            _, flows_masks = self._load_flow_maps(frame_interval, True, False)\n",
    "            stats = {\n",
    "                'kept_correspondences': int(sum([mask.sum() for mask in flows_masks])),\n",
    "                'total_correspondences': int(sum([mask.shape[0] * mask.shape[1] for mask in flows_masks])),\n",
    "            }\n",
    "            stats['percentage_kept'] = stats['kept_correspondences'] / stats['total_correspondences']\n",
    "\n",
    "            results.append({\n",
    "                'frame_interval': frame_interval,\n",
    "                **stats\n",
    "            })\n",
    "\n",
    "\n",
    "        # Sorting results by frame_interval for plotting\n",
    "        results.sort(key=lambda x: x['frame_interval'])\n",
    "\n",
    "        # Extracting values for plotting\n",
    "        x_values = [result['frame_interval'] for result in results]\n",
    "        y_values = [result['percentage_kept'] for result in results]\n",
    "\n",
    "        # Plotting the bar chart\n",
    "        plt.bar(x_values, y_values, color='blue')\n",
    "        plt.xlabel('Frame Intervals')\n",
    "        plt.ylabel('Percentage Kept (%)')\n",
    "        plt.title('Filtering Percentage across Frame Intervals')\n",
    "        plt.xticks(x_values)  # This sets the tick marks on x-axis based on the frame intervals\n",
    "        plt.grid(axis='y')\n",
    "\n",
    "        # Displaying the chart\n",
    "        plt.tight_layout()\n",
    "        plt.show()\n",
    "        \n",
    "            \n",
    "\n"
   ]
  },
  {
   "cell_type": "code",
   "execution_count": 15,
   "metadata": {},
   "outputs": [],
   "source": [
    "SEQ_NAME = \"bmx_short\"\n",
    "DATA_DIR = os.path.join(\"../omnimotion_videos/\", SEQ_NAME)\n",
    "\n",
    "inspector = PreprocessingInspector(SEQ_NAME, DATA_DIR)"
   ]
  },
  {
   "cell_type": "code",
   "execution_count": 16,
   "metadata": {},
   "outputs": [
    {
     "name": "stderr",
     "output_type": "stream",
     "text": [
      "Computing stats for 6 frame intervals:   0%|          | 0/6 [00:00<?, ?it/s]/tmp/ipykernel_4038728/2755504842.py:48: DeprecationWarning: Starting with ImageIO v3 the behavior of this function will switch to that of iio.v3.imread. To keep the current behavior (and make this warning disappear) use `import imageio.v2 as imageio` or call `imageio.v2.imread` directly.\n",
      "  masks = imageio.imread(mask_file) / 255.\n",
      "Loading flow maps: 100%|██████████| 157/157 [00:03<00:00, 44.00it/s]\n",
      "Loading flow maps: 100%|██████████| 156/156 [00:03<00:00, 49.23it/s]0:18,  3.61s/it]\n",
      "Loading flow maps: 100%|██████████| 154/154 [00:03<00:00, 49.41it/s]0:13,  3.38s/it]\n",
      "Loading flow maps: 100%|██████████| 150/150 [00:02<00:00, 56.42it/s]0:09,  3.28s/it]\n",
      "Loading flow maps: 100%|██████████| 142/142 [00:01<00:00, 79.81it/s]0:06,  3.04s/it]\n",
      "Loading flow maps: 100%|██████████| 126/126 [00:02<00:00, 52.14it/s]0:02,  2.59s/it]\n",
      "Computing stats for 6 frame intervals: 100%|██████████| 6/6 [00:16<00:00,  2.82s/it]\n"
     ]
    },
    {
     "data": {
      "image/png": "[encoded data removed]",
      "text/plain": [
       "<Figure size 640x480 with 1 Axes>"
      ]
     },
     "metadata": {},
     "output_type": "display_data"
    }
   ],
   "source": [
    "inspector.plot_filtering_percentage_across_frame_intervals()"
   ]
  },
  {
   "cell_type": "code",
   "execution_count": 17,
   "metadata": {},
   "outputs": [
    {
     "name": "stderr",
     "output_type": "stream",
     "text": [
      "Loading frames:   0%|          | 0/158 [00:00<?, ?it/s]/tmp/ipykernel_4038728/2755504842.py:73: DeprecationWarning: Starting with ImageIO v3 the behavior of this function will switch to that of iio.v3.imread. To keep the current behavior (and make this warning disappear) use `import imageio.v2 as imageio` or call `imageio.v2.imread` directly.\n",
      "  img1 = imageio.imread(os.path.join(self.img_dir, img_name1))\n",
      "Loading frames: 100%|██████████| 158/158 [00:01<00:00, 90.64it/s] \n",
      "Loading flow maps:   0%|          | 0/157 [00:00<?, ?it/s]/tmp/ipykernel_4038728/2755504842.py:48: DeprecationWarning: Starting with ImageIO v3 the behavior of this function will switch to that of iio.v3.imread. To keep the current behavior (and make this warning disappear) use `import imageio.v2 as imageio` or call `imageio.v2.imread` directly.\n",
      "  masks = imageio.imread(mask_file) / 255.\n",
      "Loading flow maps: 100%|██████████| 157/157 [00:04<00:00, 37.71it/s]\n"
     ]
    },
    {
     "name": "stdout",
     "output_type": "stream",
     "text": [
      "{'kept_correspondences': 47729569, 'total_correspondences': 48230400, 'percentage_kept': 0.9896158646828557}\n",
      "💾 Saved json to bmx_short/flows/stats_frame_interval=1.json\n",
      "Across the entire video, kept 47729569 out of 48230400 pixel-to-pixel correspondences (98.96158646828556%)\n"
     ]
    },
    {
     "name": "stderr",
     "output_type": "stream",
     "text": [
      "converting flows to images: 100%|██████████| 157/157 [00:02<00:00, 54.49it/s]\n",
      "converting flows to images: 100%|██████████| 157/157 [00:02<00:00, 54.67it/s]\n",
      "Loading flow maps: 100%|██████████| 154/154 [00:03<00:00, 38.74it/s]\n"
     ]
    },
    {
     "name": "stdout",
     "output_type": "stream",
     "text": [
      "{'kept_correspondences': 44541730, 'total_correspondences': 47308800, 'percentage_kept': 0.9415104589420996}\n",
      "💾 Saved json to bmx_short/flows/stats_frame_interval=4.json\n",
      "Across the entire video, kept 44541730 out of 47308800 pixel-to-pixel correspondences (94.15104589420996%)\n"
     ]
    },
    {
     "name": "stderr",
     "output_type": "stream",
     "text": [
      "converting flows to images: 100%|██████████| 154/154 [00:02<00:00, 54.22it/s]\n",
      "converting flows to images: 100%|██████████| 154/154 [00:02<00:00, 53.34it/s]\n",
      "Loading flow maps: 100%|██████████| 146/146 [00:05<00:00, 28.08it/s]\n"
     ]
    },
    {
     "name": "stdout",
     "output_type": "stream",
     "text": [
      "{'kept_correspondences': 38571274, 'total_correspondences': 44851200, 'percentage_kept': 0.8599830996718036}\n",
      "💾 Saved json to bmx_short/flows/stats_frame_interval=12.json\n",
      "Across the entire video, kept 38571274 out of 44851200 pixel-to-pixel correspondences (85.99830996718036%)\n"
     ]
    },
    {
     "name": "stderr",
     "output_type": "stream",
     "text": [
      "converting flows to images: 100%|██████████| 146/146 [00:02<00:00, 56.78it/s]\n",
      "converting flows to images: 100%|██████████| 146/146 [00:02<00:00, 56.08it/s]\n",
      "Loading flow maps: 100%|██████████| 134/134 [00:04<00:00, 33.19it/s]\n"
     ]
    },
    {
     "name": "stdout",
     "output_type": "stream",
     "text": [
      "{'kept_correspondences': 31800304, 'total_correspondences': 41164800, 'percentage_kept': 0.7725120491293532}\n",
      "💾 Saved json to bmx_short/flows/stats_frame_interval=24.json\n",
      "Across the entire video, kept 31800304 out of 41164800 pixel-to-pixel correspondences (77.25120491293532%)\n"
     ]
    },
    {
     "name": "stderr",
     "output_type": "stream",
     "text": [
      "converting flows to images: 100%|██████████| 134/134 [00:02<00:00, 55.86it/s]\n",
      "converting flows to images: 100%|██████████| 134/134 [00:02<00:00, 55.57it/s]\n"
     ]
    },
    {
     "name": "stdout",
     "output_type": "stream",
     "text": [
      "💾 Saved video to bmx_short/flows/flows.mp4\n"
     ]
    },
    {
     "name": "stderr",
     "output_type": "stream",
     "text": [
      "Loading count maps:   0%|          | 0/158 [00:00<?, ?it/s]/tmp/ipykernel_4038728/2755504842.py:24: DeprecationWarning: Starting with ImageIO v3 the behavior of this function will switch to that of iio.v3.imread. To keep the current behavior (and make this warning disappear) use `import imageio.v2 as imageio` or call `imageio.v2.imread` directly.\n",
      "  count_maps = [imageio.imread(os.path.join(count_dir, img_name)) for img_name in tqdm(count_img_names, desc=\"Loading count maps\")]\n",
      "Loading count maps: 100%|██████████| 158/158 [00:02<00:00, 72.78it/s]\n",
      "Converting count maps to images: 100%|██████████| 158/158 [00:03<00:00, 43.37it/s]\n"
     ]
    },
    {
     "name": "stdout",
     "output_type": "stream",
     "text": [
      "💾 Saved video to bmx_short/count_maps/count_maps.mp4\n"
     ]
    }
   ],
   "source": [
    "inspector.visualize_raft_flows(frame_intervals=[1, 4, 12, 24])\n",
    "inspector.visualize_count_maps()"
   ]
  },
  {
   "cell_type": "code",
   "execution_count": null,
   "metadata": {},
   "outputs": [],
   "source": [
    "import numpy as np\n",
    "import matplotlib.pyplot as plt\n",
    "\n",
    "def visualize_flow_as_arrows(flow_uv, stride=10):\n",
    "    \"\"\"\n",
    "    Expects a two-dimensional flow image of shape.\n",
    "\n",
    "    Args:\n",
    "        flow_uv (np.ndarray): Flow UV image of shape [H,W,2]\n",
    "        stride (int): The step size between arrows, for both height and width.\n",
    "\n",
    "    Displays:\n",
    "        A matplotlib figure with arrows representing the flow at each grid point.\n",
    "    \"\"\"\n",
    "    assert flow_uv.ndim == 3, 'input flow must have three dimensions'\n",
    "    assert flow_uv.shape[-1] == 2, 'input flow must have shape [H,W,2]'\n",
    "    \n",
    "    H, W, _ = flow_uv.shape\n",
    "    \n",
    "    x = np.arange(0, W, stride)\n",
    "    y = np.arange(0, H, stride)\n",
    "    \n",
    "    x, y = np.meshgrid(x, y)\n",
    "    \n",
    "    u = flow_uv[::stride, ::stride, 0]\n",
    "    v = flow_uv[::stride, ::stride, 1]\n",
    "    \n",
    "    plt.figure(figsize=(10,10))\n",
    "    plt.quiver(x, y, u, v, angles='xy', scale_units='xy', scale=1, color='r')\n",
    "    plt.gca().invert_yaxis()  # To align the visualization with image coordinate system\n",
    "    plt.show()\n"
   ]
  },
  {
   "cell_type": "code",
   "execution_count": null,
   "metadata": {},
   "outputs": [],
   "source": [
    "2"
   ]
  },
  {
   "cell_type": "code",
   "execution_count": null,
   "metadata": {},
   "outputs": [],
   "source": []
  }
 ],
 "metadata": {
  "kernelspec": {
   "display_name": "omnimotion",
   "language": "python",
   "name": "python3"
  },
  "language_info": {
   "codemirror_mode": {
    "name": "ipython",
    "version": 3
   },
   "file_extension": ".py",
   "mimetype": "text/x-python",
   "name": "python",
   "nbconvert_exporter": "python",
   "pygments_lexer": "ipython3",
   "version": "3.8.17"
  },
  "orig_nbformat": 4
 },
 "nbformat": 4,
 "nbformat_minor": 2
}
